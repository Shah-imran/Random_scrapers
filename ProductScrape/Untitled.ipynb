{
 "cells": [
  {
   "cell_type": "code",
   "execution_count": 1,
   "metadata": {
    "ExecuteTime": {
     "end_time": "2020-09-07T19:39:14.814175Z",
     "start_time": "2020-09-07T19:39:14.149223Z"
    }
   },
   "outputs": [],
   "source": [
    "import os\n",
    "import time\n",
    "from selenium import webdriver\n",
    "import csv\n",
    "import requests\n",
    "import secrets\n",
    "from links_handler import LinkHelper"
   ]
  },
  {
   "cell_type": "code",
   "execution_count": 2,
   "metadata": {
    "ExecuteTime": {
     "end_time": "2020-09-07T19:39:41.052020Z",
     "start_time": "2020-09-07T19:39:35.122998Z"
    }
   },
   "outputs": [],
   "source": [
    "driver = webdriver.Chrome()\n",
    "driver.set_page_load_timeout(1000)"
   ]
  },
  {
   "cell_type": "code",
   "execution_count": 6,
   "metadata": {
    "ExecuteTime": {
     "end_time": "2020-09-07T19:42:55.813635Z",
     "start_time": "2020-09-07T19:42:53.993547Z"
    }
   },
   "outputs": [],
   "source": [
    "url = 'https://www.bigbasket.com/pd/10000148/fresho-onion-1-kg/'\n",
    "driver.get(url)"
   ]
  },
  {
   "cell_type": "code",
   "execution_count": 49,
   "metadata": {
    "ExecuteTime": {
     "end_time": "2020-09-07T21:21:58.375979Z",
     "start_time": "2020-09-07T21:21:57.954942Z"
    }
   },
   "outputs": [
    {
     "name": "stdout",
     "output_type": "stream",
     "text": [
      "{'category': 'FRUITS & VEGETABLES', 'sub_category': 'FRESH VEGETABLES', 'item_group': 'POTATO, ONION & TOMATO', 'brand': 'Fresho', 'item_name': 'FRESHO Onion', 'title': 'Fresho Onion, 1 kg  ', 'about': 'About the Product\\nOnion is a vegetable which is almost like a staple in Indian food. This is also known to be one of the essential ingredients of raw salads. They come in different colours like white, red or yellow and are quite in demand in cold salads and hot soups. You can dice, slice or cut it in rings and put it in burgers and sandwiches. Onions emit a sharp flavour and fragrance once they are fried; it is due to the sulphur compound in the vegetable.\\nNutritional Facts\\nOnions are known to be rich in biotin. Most of the flavonoids which are known as anti-oxidants are concentrated more in the outer layers, so when you peel off the layers, you should remove as little as possible. Onions, like garlic, are also rich in sulphur compounds. Onions are known to contain manganese, copper, Vitamin B6, Vitamin C and dietary fibers along with phosphorus, folate and copper.\\nBenefits\\nOnions are known to have antiseptic, antimicrobial and antibiotic properties which help you to get rid of infections. If a piece of onion is inhaled, it can slow down or stop nose bleeding. Those who have sleeping disorders or insomnia can have a good night sleep if they have an onion every day. Onions also help to improve the functions of the digestive system; because it releases the digestive juices and cures any problem related to digestion.\\nOther Product Info\\nEAN Code: 10000148\\nCountry of origin: India\\nSourced & Marketed by: Supermarket Grocery Supplies Pvt. Ltd, No. 7, Service Road, Off 100 Feet Road Indiranagar Landmark: Above HDFC Bank Bangalore, Karnataka 560071\\nBest before 3 days from delivery date\\nFor Queries/Feedback/Complaints, Contact our Customer Care Executive at: Phone: 1860 123 1000 | Address: Supermarket Grocery Supplies Pvt Ltd. No7, Service Road, Domlur 100 Feet Road, Indiranagar, Bangalore 560071. | Email: customerservice@bigbasket.com\\nVariable weight policy\\nPlease note that fresh fruit and vegetables items will be billed based on exact weight during order processing (in case the actual weight exceeds the requested weight by more than 10%, you will be charged only for 10% excess weight).', 'package': ' 1 kg  ', 'mrp': 'Rs 34', 'thumbnail': 'https://www.bigbasket.com/media/uploads/p/l/10000148_28-fresho-onion.jpg', 'other_images': 'https://www.bigbasket.com/media/uploads/p/s/10000148_28-fresho-onion.jpg', 'item_url': 'https://www.bigbasket.com/pd/10000148/fresho-onion-1-kg/'}\n"
     ]
    }
   ],
   "source": [
    "field_names = [\"item_url\", \"category\",\"sub_category\",\"item_group\", \"brand\", \"item_name\", \"title\", \"about\", \"package\", \"mrp\", \"thumbnail\", \"other_images\"]\n",
    "with open(\"data1.csv\", 'w', newline='', encoding=\"utf-8\") as csvfile:\n",
    "    writer = csv.DictWriter(csvfile, fieldnames = field_names)\n",
    "    writer.writeheader()\n",
    "    try:\n",
    "        item_name = ''\n",
    "        category = ''\n",
    "        sub_category = ''\n",
    "        item_group = ''\n",
    "        brand_name = ''\n",
    "        about = ''\n",
    "        item_name = driver.find_element_by_css_selector(\"._3moNK\").get_attribute('textContent').split(\">\")[-1]\n",
    "        category = driver.find_element_by_css_selector(\"._3moNK\").get_attribute('textContent').split(\">\")[-4]\n",
    "        sub_category = driver.find_element_by_css_selector(\"._3moNK\").get_attribute('textContent').split(\">\")[-3]\n",
    "        item_group = driver.find_element_by_css_selector(\"._3moNK\").get_attribute('textContent').split(\">\")[-2]\n",
    "        brand_name = driver.find_element_by_class_name(\"_2zLWN\").text\n",
    "        temp = []\n",
    "        for item in driver.find_elements_by_class_name(\"_3ezVU\"):\n",
    "            temp.append(item.text)\n",
    "        about = \"\\n\".join(temp)\n",
    "    except:\n",
    "        print(url)\n",
    "    item_title = []\n",
    "    item_package = []\n",
    "    item_mrp = []\n",
    "    item_thumbnail = []\n",
    "    other_images = []\n",
    "    try:\n",
    "        if driver.find_element_by_xpath(\"/html/body/div[1]/div/div[2]/div[2]/div[3]/section[2]/div[1]/span\").text == \"Pack Sizes\":\n",
    "            for item, item1 in zip( driver.find_elements_by_class_name(\"_2j_7u\"), driver.find_elements_by_class_name(\"_3Yybm\")):\n",
    "                item.click()\n",
    "                item_title.append(driver.find_element_by_css_selector(\".GrE04\").get_attribute('textContent'))\n",
    "                item_package.append(item1.text)\n",
    "                item_mrp.append(item.text)\n",
    "                item_thumbnail.append(driver.find_element_by_css_selector(\"div._2FbOx:nth-child(1) > img:nth-child(1)\").get_attribute('src'))\n",
    "                links = []\n",
    "                for item2 in driver.find_element_by_class_name(\"_1lzMu\").find_elements_by_tag_name(\"div\"):\n",
    "                    links.append(item2.find_element_by_tag_name(\"img\").get_attribute('src'))\n",
    "\n",
    "                other_images.append(\" | \".join(links))\n",
    "    except:\n",
    "        item_title.append(driver.find_element_by_css_selector(\".GrE04\").get_attribute('textContent'))\n",
    "        item_package.append(driver.find_element_by_css_selector(\".GrE04\").get_attribute('textContent').split(\",\")[-1])\n",
    "        item_mrp.append(driver.find_element_by_css_selector(\".IyLvo\").get_attribute('textContent'))\n",
    "        item_thumbnail.append(driver.find_element_by_css_selector(\"div._2FbOx:nth-child(1) > img:nth-child(1)\").get_attribute('src'))\n",
    "        links = []\n",
    "        for item2 in driver.find_element_by_class_name(\"_1lzMu\").find_elements_by_tag_name(\"div\"):\n",
    "            links.append(item2.find_element_by_tag_name(\"img\").get_attribute('src'))\n",
    "\n",
    "        other_images.append(\" | \".join(links))\n",
    "\n",
    "    for title, package, mrp, thumbnail, o_image in zip(item_title, item_package, item_mrp, item_thumbnail, other_images):\n",
    "        data = {\n",
    "            \"category\": category,\n",
    "            \"sub_category\": sub_category,\n",
    "            \"item_group\": item_group,\n",
    "            \"brand\": brand_name,\n",
    "            \"item_name\": item_name,\n",
    "            \"title\": title,\n",
    "            \"about\": about,\n",
    "            \"package\": package,\n",
    "            \"mrp\": mrp,\n",
    "            \"thumbnail\": thumbnail,\n",
    "            \"other_images\": o_image,\n",
    "            \"item_url\": url\n",
    "\n",
    "        }\n",
    "        print(data)\n",
    "        try:\n",
    "            writer.writerow(data)\n",
    "        except Exception as e:\n",
    "            print('Error while saving report - {}'.format(e))\n"
   ]
  },
  {
   "cell_type": "code",
   "execution_count": 44,
   "metadata": {
    "ExecuteTime": {
     "end_time": "2020-09-07T20:55:58.439144Z",
     "start_time": "2020-09-07T20:55:58.293136Z"
    },
    "scrolled": true
   },
   "outputs": [
    {
     "name": "stdout",
     "output_type": "stream",
     "text": [
      "About the Product\n",
      "Onion is a vegetable which is almost like a staple in Indian food. This is also known to be one of the essential ingredients of raw salads. They come in different colours like white, red or yellow and are quite in demand in cold salads and hot soups. You can dice, slice or cut it in rings and put it in burgers and sandwiches. Onions emit a sharp flavour and fragrance once they are fried; it is due to the sulphur compound in the vegetable.\n",
      "Nutritional Facts\n",
      "Onions are known to be rich in biotin. Most of the flavonoids which are known as anti-oxidants are concentrated more in the outer layers, so when you peel off the layers, you should remove as little as possible. Onions, like garlic, are also rich in sulphur compounds. Onions are known to contain manganese, copper, Vitamin B6, Vitamin C and dietary fibers along with phosphorus, folate and copper.\n",
      "Benefits\n",
      "Onions are known to have antiseptic, antimicrobial and antibiotic properties which help you to get rid of infections. If a piece of onion is inhaled, it can slow down or stop nose bleeding. Those who have sleeping disorders or insomnia can have a good night sleep if they have an onion every day. Onions also help to improve the functions of the digestive system; because it releases the digestive juices and cures any problem related to digestion.\n",
      "Other Product Info\n",
      "EAN Code: 10000148\n",
      "Country of origin: India\n",
      "Sourced & Marketed by: Supermarket Grocery Supplies Pvt. Ltd, No. 7, Service Road, Off 100 Feet Road Indiranagar Landmark: Above HDFC Bank Bangalore, Karnataka 560071\n",
      "Best before 3 days from delivery date\n",
      "For Queries/Feedback/Complaints, Contact our Customer Care Executive at: Phone: 1860 123 1000 | Address: Supermarket Grocery Supplies Pvt Ltd. No7, Service Road, Domlur 100 Feet Road, Indiranagar, Bangalore 560071. | Email: customerservice@bigbasket.com\n",
      "Variable weight policy\n",
      "Please note that fresh fruit and vegetables items will be billed based on exact weight during order processing (in case the actual weight exceeds the requested weight by more than 10%, you will be charged only for 10% excess weight).\n"
     ]
    }
   ],
   "source": [
    "for item in driver.find_elements_by_class_name(\"_3ezVU\"):\n",
    "    print(item.text)"
   ]
  }
 ],
 "metadata": {
  "kernelspec": {
   "display_name": "Python 3.6.8 64-bit",
   "language": "python",
   "name": "python36864bit442b44ef86ba4dfaba1ce81f1c13c21c"
  },
  "language_info": {
   "codemirror_mode": {
    "name": "ipython",
    "version": 3
   },
   "file_extension": ".py",
   "mimetype": "text/x-python",
   "name": "python",
   "nbconvert_exporter": "python",
   "pygments_lexer": "ipython3",
   "version": "3.6.8"
  }
 },
 "nbformat": 4,
 "nbformat_minor": 2
}
